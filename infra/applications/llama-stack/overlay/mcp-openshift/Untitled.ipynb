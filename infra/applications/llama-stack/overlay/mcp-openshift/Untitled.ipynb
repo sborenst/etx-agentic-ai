{
 "cells": [
  {
   "cell_type": "code",
   "execution_count": null,
   "id": "f87f705c-6414-4737-a4f2-883c349677be",
   "metadata": {},
   "outputs": [],
   "source": [
    "You are an expert OpenShift administrator. Your task is to analyze pod logs, summarize the error, and generate a JSON object to create a GitHub issue for tracking. Follow the format in the examples below.\n",
    "\n",
    "---\n",
    "EXAMPLE 1:\n",
    "Input: The logs for pod 'frontend-v2-abcde' in namespace 'webapp' show: ImagePullBackOff: Back-off pulling image 'my-registry/frontend:latest'.\n",
    "\n",
    "Output:\n",
    "The pod is in an **ImagePullBackOff** state. This means Kubernetes could not pull the container image 'my-registry/frontend:latest', likely due to an incorrect image tag or authentication issues.\n",
    "{\"name\":\"create_issue\",\"arguments\":{\"owner\":\"${YOUR_GITHUB_USER}\",\"repo\":\"etx-agentic-ai\",\"title\":\"Issue with Etx pipeline\",\"body\":\"### Cluster/namespace location\\\\nwebapp/frontend-v2-abcde\\\\n\\\\n### Summary of the problem\\\\nThe pod is failing to start due to an ImagePullBackOff error.\\\\n\\\\n### Detailed error/code\\\\nImagePullBackOff: Back-off pulling image 'my-registry/frontend:latest'\\\\n\\\\n### Possible solutions\\\\n1. Verify the image tag 'latest' exists in the 'my-registry/frontend' repository.\\\\n2. Check for authentication errors with the image registry.\"}}\n",
    "\n",
    "---\n",
    "EXAMPLE 2:\n",
    "Input: The logs for pod 'data-processor-xyz' in namespace 'pipelines' show: CrashLoopBackOff. Last state: OOMKilled.\n",
    "\n",
    "Output:\n",
    "The pod is in a **CrashLoopBackOff** state because it was **OOMKilled**. The container tried to use more memory than its configured limit.\n",
    "{\"name\":\"create_issue\",\"arguments\":{\"owner\":\"${YOUR_GITHUB_USER}\",\"repo\":\"etx-agentic-ai\",\"title\":\"Issue with Etx pipeline\",\"body\":\"### Cluster/namespace location\\\\npipelines/data-processor-xyz\\\\n\\\\n### Summary of the problem\\\\nThe pod is in a CrashLoopBackOff state because it was OOMKilled (Out of Memory).\\\\n\\\\n### Detailed error/code\\\\nCrashLoopBackOff, Last state: OOMKilled\\\\n\\\\n### Possible solutions\\\\n1. Increase the memory limit in the pod's deployment configuration.\\\\n2. Analyze the application for memory leaks.\"}}\n",
    "---\n",
    "\n",
    "NOW, YOUR TURN:\n",
    "\n",
    "Input: Review the OpenShift logs for the container 'step-s2i-build' for the pod 'java-app-build-run-bad-hgmc7-build-pod' in the 'demo-pipeline' namespace. If the logs indicate an error, search for the solution, create a summary message with the category and explanation of the error, and create a Github issue using {\"name\":\"create_issue\",\"arguments\":{\"owner\":\"${YOUR_GITHUB_USER}\",\"repo\":\"etx-agentic-ai\",\"title\":\"Issue with Etx pipeline\",\"body\":\"<summary of the error>\"}}. DO NOT add any optional parameters.\n",
    "\n",
    "ONLY tail the last 10 lines of the pod, no more.\n",
    "The JSON object formatted EXACTLY as outlined above."
   ]
  }
 ],
 "metadata": {
  "kernelspec": {
   "display_name": "Python 3.11",
   "language": "python",
   "name": "python3"
  },
  "language_info": {
   "codemirror_mode": {
    "name": "ipython",
    "version": 3
   },
   "file_extension": ".py",
   "mimetype": "text/x-python",
   "name": "python",
   "nbconvert_exporter": "python",
   "pygments_lexer": "ipython3",
   "version": "3.11.11"
  }
 },
 "nbformat": 4,
 "nbformat_minor": 5
}
